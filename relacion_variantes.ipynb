{
 "cells": [
  {
   "cell_type": "code",
   "execution_count": 1,
   "id": "0b26f7ac",
   "metadata": {},
   "outputs": [
    {
     "name": "stderr",
     "output_type": "stream",
     "text": [
      "c:\\Users\\admin\\Documents\\acoding\\HanovaCaso2\\myenv\\Lib\\site-packages\\tqdm\\auto.py:21: TqdmWarning: IProgress not found. Please update jupyter and ipywidgets. See https://ipywidgets.readthedocs.io/en/stable/user_install.html\n",
      "  from .autonotebook import tqdm as notebook_tqdm\n"
     ]
    },
    {
     "data": {
      "text/html": [
       "\n",
       "            <div>\n",
       "                <ins><a href=\"https://ydata.ai/register\">Upgrade to ydata-sdk</a></ins>\n",
       "                <p>\n",
       "                    Improve your data and profiling with ydata-sdk, featuring data quality scoring, redundancy detection, outlier identification, text validation, and synthetic data generation.\n",
       "                </p>\n",
       "            </div>\n",
       "            "
      ],
      "text/plain": [
       "<IPython.core.display.HTML object>"
      ]
     },
     "metadata": {},
     "output_type": "display_data"
    }
   ],
   "source": [
    "import pandas as pd\n",
    "import ydata_profiling as yp\n",
    "\n",
    "df = pd.read_excel('original/relacion_variantes.xlsx')\n",
    "# df.info()"
   ]
  },
  {
   "cell_type": "code",
   "execution_count": 2,
   "id": "325cc61d",
   "metadata": {},
   "outputs": [],
   "source": [
    "dfi = df.map(str) # convierte el reporte inicial todo a texto para poder mostrarlo sin errores\n",
    "dfi.to_excel('sample/relacion_variantes_object.xlsx', index=False, engine='openpyxl')"
   ]
  },
  {
   "cell_type": "code",
   "execution_count": 3,
   "id": "a57fcad6",
   "metadata": {},
   "outputs": [],
   "source": [
    "# Normalizar Color\n",
    "df['Color'] = df['Color'].str.lower().replace(\n",
    "    {'rojo': 'red'}\n",
    ")"
   ]
  },
  {
   "cell_type": "code",
   "execution_count": 4,
   "id": "098cb013",
   "metadata": {},
   "outputs": [],
   "source": [
    "# Normalizar Size\n",
    "df['Size'] = df['Size'].replace({\n",
    "    'Talla S' : 'S',\n",
    "    '36' : 'S',\n",
    "    'Small' : 'S',\n",
    "    'chico' : 'S'\n",
    "})"
   ]
  },
  {
   "cell_type": "code",
   "execution_count": 5,
   "id": "1588f7eb",
   "metadata": {},
   "outputs": [
    {
     "name": "stderr",
     "output_type": "stream",
     "text": [
      "C:\\Users\\admin\\AppData\\Local\\Temp\\ipykernel_13588\\2910939803.py:2: FutureWarning: Downcasting behavior in `replace` is deprecated and will be removed in a future version. To retain the old behavior, explicitly call `result.infer_objects(copy=False)`. To opt-in to the future behavior, set `pd.set_option('future.no_silent_downcasting', True)`\n",
      "  df['Active'] = df['Active'].replace(\n"
     ]
    }
   ],
   "source": [
    "# Normalizar Active\n",
    "df['Active'] = df['Active'].replace(\n",
    "    {'activo': True, '1': True, 'yes': True, '0': False, 'no': False, 'inactivo': False}\n",
    ")"
   ]
  },
  {
   "cell_type": "code",
   "execution_count": 6,
   "id": "4d02d515",
   "metadata": {},
   "outputs": [
    {
     "name": "stderr",
     "output_type": "stream",
     "text": [
      "100%|██████████| 5/5 [00:00<00:00, 38.39it/s]00<00:00, 27.11it/s, Describe variable: Active]\n",
      "Summarize dataset: 100%|██████████| 11/11 [00:00<00:00, 70.97it/s, Completed]               \n",
      "Generate report structure: 100%|██████████| 1/1 [00:00<00:00,  1.13it/s]\n",
      "Render HTML: 100%|██████████| 1/1 [00:00<00:00,  5.12it/s]\n",
      "Export report to file: 100%|██████████| 1/1 [00:00<00:00, 182.98it/s]\n"
     ]
    }
   ],
   "source": [
    "# Generar reporte pandas profiling\n",
    "report = yp.ProfileReport(\n",
    "            df,\n",
    "            title=\"Reporte Relacion Variantes\",\n",
    "            explorative=True,\n",
    "            minimal=True,\n",
    "        )\n",
    "report.to_file(\"limpio/reporte_relacion_variantes.html\")"
   ]
  },
  {
   "cell_type": "code",
   "execution_count": 7,
   "id": "51fd3a39",
   "metadata": {},
   "outputs": [
    {
     "name": "stdout",
     "output_type": "stream",
     "text": [
      "<class 'pandas.core.frame.DataFrame'>\n",
      "RangeIndex: 150 entries, 0 to 149\n",
      "Data columns (total 5 columns):\n",
      " #   Column       Non-Null Count  Dtype \n",
      "---  ------       --------------  ----- \n",
      " 0   Base_SKU     150 non-null    object\n",
      " 1   Variant_SKU  150 non-null    object\n",
      " 2   Color        150 non-null    object\n",
      " 3   Size         150 non-null    object\n",
      " 4   Active       150 non-null    bool  \n",
      "dtypes: bool(1), object(4)\n",
      "memory usage: 5.0+ KB\n"
     ]
    }
   ],
   "source": [
    "# num_duplicates = df.duplicated().sum()\n",
    "# print(f\"Num filas duplicadas: {num_duplicates}\")\n",
    "# df = df.drop_duplicates()\n",
    "\n",
    "df.to_excel('limpio/relacion_variantes_clean.xlsx', index=False)\n",
    "df.info()"
   ]
  }
 ],
 "metadata": {
  "kernelspec": {
   "display_name": "myenv",
   "language": "python",
   "name": "python3"
  },
  "language_info": {
   "codemirror_mode": {
    "name": "ipython",
    "version": 3
   },
   "file_extension": ".py",
   "mimetype": "text/x-python",
   "name": "python",
   "nbconvert_exporter": "python",
   "pygments_lexer": "ipython3",
   "version": "3.12.6"
  }
 },
 "nbformat": 4,
 "nbformat_minor": 5
}
