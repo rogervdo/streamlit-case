{
 "cells": [
  {
   "cell_type": "code",
   "execution_count": 1,
   "id": "c6bd26f1",
   "metadata": {},
   "outputs": [
    {
     "name": "stderr",
     "output_type": "stream",
     "text": [
      "c:\\Users\\admin\\Documents\\acoding\\HanovaCaso2\\myenv\\Lib\\site-packages\\tqdm\\auto.py:21: TqdmWarning: IProgress not found. Please update jupyter and ipywidgets. See https://ipywidgets.readthedocs.io/en/stable/user_install.html\n",
      "  from .autonotebook import tqdm as notebook_tqdm\n"
     ]
    },
    {
     "data": {
      "text/html": [
       "\n",
       "            <div>\n",
       "                <ins><a href=\"https://ydata.ai/register\">Upgrade to ydata-sdk</a></ins>\n",
       "                <p>\n",
       "                    Improve your data and profiling with ydata-sdk, featuring data quality scoring, redundancy detection, outlier identification, text validation, and synthetic data generation.\n",
       "                </p>\n",
       "            </div>\n",
       "            "
      ],
      "text/plain": [
       "<IPython.core.display.HTML object>"
      ]
     },
     "metadata": {},
     "output_type": "display_data"
    }
   ],
   "source": [
    "import pandas as pd\n",
    "import ydata_profiling as yp\n",
    "# from dateutil import parser as ps\n",
    "\n",
    "df = pd.read_excel('original/ventas_ultimos_6_meses.xlsx')\n",
    "# df.info()"
   ]
  },
  {
   "cell_type": "code",
   "execution_count": 2,
   "id": "144e2256",
   "metadata": {},
   "outputs": [],
   "source": [
    "dfi = df.map(str)  # convierte el reporte inicial todo a texto para poder mostrarlo sin errores\n",
    "dfi.to_excel('sample/ventas_ultimos_6_meses_object.xlsx', index=False, engine='openpyxl')"
   ]
  },
  {
   "cell_type": "code",
   "execution_count": 3,
   "id": "6dfe7405",
   "metadata": {},
   "outputs": [],
   "source": [
    "# Quantity_Sold\n",
    "\n",
    "# Normalizar \n",
    "def normalize_quantity(q):\n",
    "    q = str(q).strip().lower()\n",
    "\n",
    "    if q in ['dos', '2']:\n",
    "        return 2.0\n",
    "    if q in ['uno', 'una', '1']:\n",
    "        return 1.0\n",
    "    if 'unidades' in q: # '20 unidades'\n",
    "        try:\n",
    "            return float(q.split()[0]) # '20'\n",
    "        except (ValueError, IndexError):\n",
    "            return None\n",
    "    try:\n",
    "        return float(q)\n",
    "    except ValueError:\n",
    "        return None\n",
    "\n",
    "df['Quantity_Sold'] = df['Quantity_Sold'].apply(normalize_quantity)"
   ]
  },
  {
   "cell_type": "code",
   "execution_count": 4,
   "id": "6dad1758",
   "metadata": {},
   "outputs": [
    {
     "name": "stdout",
     "output_type": "stream",
     "text": [
      "Num fechas NaT: 14\n"
     ]
    },
    {
     "name": "stderr",
     "output_type": "stream",
     "text": [
      "C:\\Users\\admin\\AppData\\Local\\Temp\\ipykernel_13676\\247807814.py:2: UserWarning: Could not infer format, so each element will be parsed individually, falling back to `dateutil`. To ensure parsing is consistent and as-expected, please specify a format.\n",
      "  df['Sale_Date'] = pd.to_datetime(df['Sale_Date'], errors='coerce', dayfirst=True)\n"
     ]
    }
   ],
   "source": [
    "# Sale_Date\n",
    "df['Sale_Date'] = pd.to_datetime(df['Sale_Date'], errors='coerce', dayfirst=True)\n",
    "\n",
    "# Aqui como tenemos fechas invalidas, si usamos la solución de productos_departamento \n",
    "# como sea intenta usar el parser de dateutil al no poder convertir a datetime las fechas invalidas\n",
    "\n",
    "# print(df)\n",
    "print(\"Num fechas NaT:\", df['Sale_Date'].isna().sum())\n"
   ]
  },
  {
   "cell_type": "code",
   "execution_count": 5,
   "id": "d71c13dd",
   "metadata": {},
   "outputs": [],
   "source": [
    "# Payment_Method\n",
    "df['Payment_Method'] = df['Payment_Method'].str.lower().replace({\n",
    "    'tarjita' : 'card',\n",
    "    'tarjta' : 'card',\n",
    "    'tarjeta' : 'card',\n",
    "    'efectivo' : 'cash'\n",
    "}).str.title()"
   ]
  },
  {
   "cell_type": "code",
   "execution_count": 6,
   "id": "80209c87",
   "metadata": {},
   "outputs": [],
   "source": [
    "# Creamos columna 'Returned' para indicar si la venta fue devuelta (-1 = devolución)\n",
    "returned = df['Quantity_Sold'] == -1\n",
    "df.insert(3, 'Returned', returned)"
   ]
  },
  {
   "cell_type": "code",
   "execution_count": 7,
   "id": "5ef69245",
   "metadata": {},
   "outputs": [
    {
     "name": "stderr",
     "output_type": "stream",
     "text": [
      "100%|██████████| 7/7 [00:00<00:00, 59.90it/s]00<00:00, 33.30it/s, Describe variable: Payment_Method]\n",
      "Summarize dataset: 100%|██████████| 13/13 [00:00<00:00, 76.51it/s, Completed]                       \n",
      "Generate report structure: 100%|██████████| 1/1 [00:01<00:00,  1.44s/it]\n",
      "Render HTML: 100%|██████████| 1/1 [00:00<00:00,  4.29it/s]\n",
      "Export report to file: 100%|██████████| 1/1 [00:00<?, ?it/s]\n"
     ]
    }
   ],
   "source": [
    "# Generar reporte pandas profiling\n",
    "report = yp.ProfileReport(\n",
    "            df,\n",
    "            title=\"Reporte Ventas Ultimos 6 Meses\",\n",
    "            explorative=True,\n",
    "            minimal=True,\n",
    "        )\n",
    "report.to_file(\"limpio/reporte_ventas_ultimos_6_meses.html\")"
   ]
  },
  {
   "cell_type": "code",
   "execution_count": 8,
   "id": "aff57298",
   "metadata": {},
   "outputs": [
    {
     "name": "stdout",
     "output_type": "stream",
     "text": [
      "<class 'pandas.core.frame.DataFrame'>\n",
      "RangeIndex: 400 entries, 0 to 399\n",
      "Data columns (total 7 columns):\n",
      " #   Column          Non-Null Count  Dtype         \n",
      "---  ------          --------------  -----         \n",
      " 0   Order_ID        400 non-null    object        \n",
      " 1   SKU             400 non-null    object        \n",
      " 2   Quantity_Sold   400 non-null    float64       \n",
      " 3   Returned        400 non-null    bool          \n",
      " 4   Sale_Date       386 non-null    datetime64[ns]\n",
      " 5   Total_Amount    400 non-null    float64       \n",
      " 6   Payment_Method  400 non-null    object        \n",
      "dtypes: bool(1), datetime64[ns](1), float64(2), object(3)\n",
      "memory usage: 19.3+ KB\n"
     ]
    }
   ],
   "source": [
    "# num_duplicates = df.duplicated().sum()\n",
    "# print(f\"Num filas duplicadas: {num_duplicates}\")\n",
    "# df = df.drop_duplicates()\n",
    "\n",
    "df.to_excel('limpio/ventas_ultimos_6_meses_clean.xlsx', index=False)\n",
    "df.info()"
   ]
  }
 ],
 "metadata": {
  "kernelspec": {
   "display_name": "myenv",
   "language": "python",
   "name": "python3"
  },
  "language_info": {
   "codemirror_mode": {
    "name": "ipython",
    "version": 3
   },
   "file_extension": ".py",
   "mimetype": "text/x-python",
   "name": "python",
   "nbconvert_exporter": "python",
   "pygments_lexer": "ipython3",
   "version": "3.12.6"
  }
 },
 "nbformat": 4,
 "nbformat_minor": 5
}
