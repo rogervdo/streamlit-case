{
 "cells": [
  {
   "cell_type": "code",
   "execution_count": 1,
   "id": "164b4987",
   "metadata": {},
   "outputs": [
    {
     "name": "stderr",
     "output_type": "stream",
     "text": [
      "c:\\Users\\admin\\Documents\\acoding\\HanovaCaso2\\myenv\\Lib\\site-packages\\tqdm\\auto.py:21: TqdmWarning: IProgress not found. Please update jupyter and ipywidgets. See https://ipywidgets.readthedocs.io/en/stable/user_install.html\n",
      "  from .autonotebook import tqdm as notebook_tqdm\n"
     ]
    },
    {
     "data": {
      "text/html": [
       "\n",
       "            <div>\n",
       "                <ins><a href=\"https://ydata.ai/register\">Upgrade to ydata-sdk</a></ins>\n",
       "                <p>\n",
       "                    Improve your data and profiling with ydata-sdk, featuring data quality scoring, redundancy detection, outlier identification, text validation, and synthetic data generation.\n",
       "                </p>\n",
       "            </div>\n",
       "            "
      ],
      "text/plain": [
       "<IPython.core.display.HTML object>"
      ]
     },
     "metadata": {},
     "output_type": "display_data"
    }
   ],
   "source": [
    "import pandas as pd\n",
    "import ydata_profiling as yp\n",
    "import re\n",
    "\n",
    "df = pd.read_excel('original/productos_departamento.xlsx')\n",
    "# df.info()"
   ]
  },
  {
   "cell_type": "code",
   "execution_count": 2,
   "id": "ba875210",
   "metadata": {},
   "outputs": [],
   "source": [
    "dfi = df.astype(str)  # convierte el reporte inicial todo a texto para poder mostrarlo sin errores\n",
    "dfi.to_excel('sample/productos_departamento_object.xlsx', index=False, engine='openpyxl')"
   ]
  },
  {
   "cell_type": "code",
   "execution_count": 3,
   "id": "1cb1974a",
   "metadata": {},
   "outputs": [],
   "source": [
    "# Product_Name \n",
    "df['Product_Name'] = df['Product_Name'].str.title().str.replace('_', ' ', regex=False)"
   ]
  },
  {
   "cell_type": "code",
   "execution_count": 4,
   "id": "727e2991",
   "metadata": {},
   "outputs": [],
   "source": [
    "# Price\n",
    "def normalize_price(value):\n",
    "    if pd.isna(value):\n",
    "        return None\n",
    "    \n",
    "    # Extrae numero con o sin comas y punto decimal\n",
    "    match = re.search(r'([\\d,]+(?:\\.\\d+)?)', str(value))\n",
    "    if match:\n",
    "        num = match.group(1).replace(',', '') # Quitamos comas \n",
    "        try:\n",
    "            return float(num)\n",
    "        except ValueError:\n",
    "            return None\n",
    "    return None\n",
    "\n",
    "df['Price'] = df['Price'].apply(normalize_price)"
   ]
  },
  {
   "cell_type": "code",
   "execution_count": 5,
   "id": "ca2bbf0a",
   "metadata": {
    "vscode": {
     "languageId": "ruby"
    }
   },
   "outputs": [],
   "source": [
    "# Category, Subcategory\n",
    "\n",
    "# Buscamos valores que contengan un guion - en Category para separarlos\n",
    "df_mask = df['Category'].str.contains('-', na=False)\n",
    "\n",
    "df.loc[df_mask, 'Subcategory'] = df.loc[df_mask, 'Category'].str.split('-', n=1).str[1] # Izq -> Category\n",
    "df.loc[df_mask, 'Category'] = df.loc[df_mask, 'Category'].str.split('-', n=1).str[0] # Der -> Subcategory\n",
    "\n",
    "# Capitalizamos y normalizamos nombres\n",
    "df['Subcategory'] = df['Subcategory'].str.title().replace({'Pantalón': 'Pantalones', 'Nan': None})\n",
    "df['Category'] = df['Category'].str.title().replace('Vestimenta', 'Ropa')\n"
   ]
  },
  {
   "cell_type": "code",
   "execution_count": 6,
   "id": "2e87bb08",
   "metadata": {},
   "outputs": [],
   "source": [
    "# Stock\n",
    "df['Stock'] = pd.to_numeric(df['Stock'], errors='coerce')"
   ]
  },
  {
   "cell_type": "code",
   "execution_count": 7,
   "id": "fa8a2bc7",
   "metadata": {},
   "outputs": [],
   "source": [
    "# Solución con dateutil.parser (no utilizada)\n",
    "\n",
    "# from dateutil import parser\n",
    "# df['Last_Update'] = df['Last_Update'].apply(\n",
    "#     lambda x: parser.parse(x, dayfirst=True) if pd.notna(x) and str(x).lower() != 'nan' else pd.NaT\n",
    "# )\n",
    "\n",
    "# Primer intento: dayfirst=True DMY\n",
    "dt = pd.to_datetime(df['Last_Update'], errors='coerce', dayfirst=True)\n",
    "\n",
    "# Segundo intento YMD\n",
    "dt_mask = dt.isna() & df['Last_Update'].notna() # Los que fallaron en la primera y que no eran NaT\n",
    "dt2 = pd.to_datetime(df.loc[dt_mask, 'Last_Update'], errors='coerce', dayfirst=False)\n",
    "\n",
    "# Combina resultados\n",
    "dt.loc[dt_mask] = dt2\n",
    "df['Last_Update'] = dt\n"
   ]
  },
  {
   "cell_type": "code",
   "execution_count": 8,
   "id": "cc922c6f",
   "metadata": {},
   "outputs": [],
   "source": [
    "# Creamos ProductID como primer columna\n",
    "df.insert(0, 'Product_ID', range(1001, 1001 + len(df)))\n",
    "df['Product_ID'] = df['Product_ID'].astype('int64')"
   ]
  },
  {
   "cell_type": "code",
   "execution_count": 9,
   "id": "7da974a5",
   "metadata": {},
   "outputs": [],
   "source": [
    "# ERP_Code\n",
    "# Cargar categorias_maestras\n",
    "cat_df = pd.read_excel('limpio/categorias_maestras.xlsx', dtype=str)\n",
    "\n",
    "# Left merge para obtener ERP_Code donde Category y Subcategory coinciden\n",
    "df = df.merge(\n",
    "    cat_df[['Category_Clean', 'Subcategory_Clean', 'ERP_Code']],\n",
    "    left_on=['Category', 'Subcategory'],\n",
    "    right_on=['Category_Clean', 'Subcategory_Clean'],\n",
    "    how='left'\n",
    ")\n",
    "\n",
    "# Insertar ERP_Code después de Category y Subcategory\n",
    "df['ERP_Code'] = df['ERP_Code'].astype('object')\n",
    "erp_col = df.pop('ERP_Code')\n",
    "df.insert(6, 'ERP_Code', erp_col)\n",
    "\n",
    "# Dropeamos columnas auxiliares\n",
    "df = df.drop(columns=['Category_Clean', 'Subcategory_Clean'])"
   ]
  },
  {
   "cell_type": "code",
   "execution_count": 10,
   "id": "d605812f",
   "metadata": {},
   "outputs": [
    {
     "name": "stderr",
     "output_type": "stream",
     "text": [
      "100%|██████████| 10/10 [00:00<00:00, 72.56it/s]<00:00, 39.82it/s, Describe variable: Last_Update]\n",
      "Summarize dataset: 100%|██████████| 16/16 [00:00<00:00, 76.36it/s, Completed]                    \n",
      "Generate report structure: 100%|██████████| 1/1 [00:02<00:00,  2.24s/it]\n",
      "Render HTML: 100%|██████████| 1/1 [00:00<00:00,  3.25it/s]\n",
      "Export report to file: 100%|██████████| 1/1 [00:00<?, ?it/s]\n"
     ]
    }
   ],
   "source": [
    "# Generar reporte pandas profiling\n",
    "report = yp.ProfileReport(\n",
    "            df,\n",
    "            title=\"Reporte Productos Departamento\",\n",
    "            explorative=True,\n",
    "            minimal=True,\n",
    "        )\n",
    "report.to_file(\"limpio/reporte_productos_departamento.html\")"
   ]
  },
  {
   "cell_type": "code",
   "execution_count": 11,
   "id": "e7e3d5f9",
   "metadata": {},
   "outputs": [
    {
     "name": "stdout",
     "output_type": "stream",
     "text": [
      "<class 'pandas.core.frame.DataFrame'>\n",
      "RangeIndex: 500 entries, 0 to 499\n",
      "Data columns (total 10 columns):\n",
      " #   Column        Non-Null Count  Dtype         \n",
      "---  ------        --------------  -----         \n",
      " 0   Product_ID    500 non-null    int64         \n",
      " 1   Product_Name  500 non-null    object        \n",
      " 2   SKU           480 non-null    object        \n",
      " 3   Price         481 non-null    float64       \n",
      " 4   Category      500 non-null    object        \n",
      " 5   Subcategory   383 non-null    object        \n",
      " 6   ERP_Code      378 non-null    object        \n",
      " 7   Stock         452 non-null    float64       \n",
      " 8   Provider_ID   500 non-null    int64         \n",
      " 9   Last_Update   486 non-null    datetime64[ns]\n",
      "dtypes: datetime64[ns](1), float64(2), int64(2), object(5)\n",
      "memory usage: 39.2+ KB\n"
     ]
    }
   ],
   "source": [
    "# num_duplicates = df.duplicated().sum()\n",
    "# print(f\"Num filas duplicadas: {num_duplicates}\")\n",
    "# df = df.drop_duplicates()\n",
    "\n",
    "df.to_excel('limpio/productos_departamento_clean.xlsx', index=False)\n",
    "df.info()"
   ]
  }
 ],
 "metadata": {
  "kernelspec": {
   "display_name": "myenv",
   "language": "python",
   "name": "python3"
  },
  "language_info": {
   "codemirror_mode": {
    "name": "ipython",
    "version": 3
   },
   "file_extension": ".py",
   "mimetype": "text/x-python",
   "name": "python",
   "nbconvert_exporter": "python",
   "pygments_lexer": "ipython3",
   "version": "3.12.6"
  }
 },
 "nbformat": 4,
 "nbformat_minor": 5
}
