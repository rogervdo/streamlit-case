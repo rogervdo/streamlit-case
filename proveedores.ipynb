{
 "cells": [
  {
   "cell_type": "code",
   "execution_count": 7,
   "id": "c0a8ed35",
   "metadata": {},
   "outputs": [],
   "source": [
    "import pandas as pd\n",
    "import ydata_profiling as yp\n",
    "import re\n",
    "\n",
    "df = pd.read_excel('original/proveedores.xlsx')\n",
    "# df.info()"
   ]
  },
  {
   "cell_type": "code",
   "execution_count": 8,
   "id": "c99bba67",
   "metadata": {},
   "outputs": [],
   "source": [
    "dfi = df.astype(str)  # convierte el reporte inicial todo a texto para poder mostrarlo sin errores\n",
    "dfi.to_excel('sample/proveedores_object.xlsx', index=False, engine='openpyxl')"
   ]
  },
  {
   "cell_type": "code",
   "execution_count": 9,
   "id": "ed201b40",
   "metadata": {},
   "outputs": [],
   "source": [
    "# Normalizar Email\n",
    "df['Email'] = df['Email'].str.replace('AT', '@', regex=False)"
   ]
  },
  {
   "cell_type": "code",
   "execution_count": null,
   "id": "3bde4066",
   "metadata": {},
   "outputs": [],
   "source": [
    "# Normalizar Phone\n",
    "\n",
    "def normalize_phone(phone):\n",
    "    if pd.isna(phone) or str(phone).strip().upper() == \"N/A\":\n",
    "        return None\n",
    "    # Normalizar notación de extensión\n",
    "    phone_str = str(phone).replace(\"ext\", \"x\").replace(\"EXT\", \"x\")\n",
    "    # Regex: Numero -> Extensión opcional\n",
    "    # +, 0-9, (), -, ., \" \"\n",
    "    match = re.match(r\"([+\\d\\(\\)\\-\\. ]+)(?:\\s*[xX]\\s*(\\d+))?\", phone_str)\n",
    "    if not match:\n",
    "        return None\n",
    "    main = re.sub(r\"[^\\d]\", \"\", match.group(1))\n",
    "    ext = match.group(2)\n",
    "    # print(f\"group 1: {main}, group 2: {ext}\")\n",
    "    if ext:\n",
    "        # x es opcional, se incluye por claridad\n",
    "        return f\"{main} x{ext}\"\n",
    "    return main\n",
    "\n",
    "df['Phone'] = df['Phone'].apply(normalize_phone)"
   ]
  },
  {
   "cell_type": "code",
   "execution_count": 11,
   "id": "9b0e4235",
   "metadata": {},
   "outputs": [
    {
     "name": "stderr",
     "output_type": "stream",
     "text": [
      "100%|██████████| 5/5 [00:00<?, ?it/s]/10 [00:00<00:00, 50.54it/s, Describe variable: Email]\n",
      "Summarize dataset: 100%|██████████| 11/11 [00:00<00:00, 123.59it/s, Completed]               \n",
      "Generate report structure: 100%|██████████| 1/1 [00:01<00:00,  1.47s/it]\n",
      "Render HTML: 100%|██████████| 1/1 [00:00<00:00,  6.52it/s]\n",
      "Export report to file: 100%|██████████| 1/1 [00:00<?, ?it/s]\n"
     ]
    }
   ],
   "source": [
    "# Generar reporte pandas profiling\n",
    "report = yp.ProfileReport(\n",
    "            df,\n",
    "            title=\"Reporte Proveedores\",\n",
    "            explorative=True,\n",
    "            minimal=True,\n",
    "        )\n",
    "report.to_file(\"limpio/reporte_proveedores.html\")"
   ]
  },
  {
   "cell_type": "code",
   "execution_count": 12,
   "id": "45c55978",
   "metadata": {},
   "outputs": [
    {
     "name": "stdout",
     "output_type": "stream",
     "text": [
      "<class 'pandas.core.frame.DataFrame'>\n",
      "RangeIndex: 100 entries, 0 to 99\n",
      "Data columns (total 5 columns):\n",
      " #   Column         Non-Null Count  Dtype \n",
      "---  ------         --------------  ----- \n",
      " 0   Provider_ID    100 non-null    int64 \n",
      " 1   Provider_Name  100 non-null    object\n",
      " 2   Region         100 non-null    object\n",
      " 3   Phone          91 non-null     object\n",
      " 4   Email          100 non-null    object\n",
      "dtypes: int64(1), object(4)\n",
      "memory usage: 4.0+ KB\n"
     ]
    }
   ],
   "source": [
    "# num_duplicates = df.duplicated().sum()\n",
    "# print(f\"Num filas duplicadas: {num_duplicates}\")\n",
    "# df = df.drop_duplicates()\n",
    "df.to_excel('limpio/proveedores_clean.xlsx', index=False)\n",
    "df.info()"
   ]
  }
 ],
 "metadata": {
  "kernelspec": {
   "display_name": "myenv",
   "language": "python",
   "name": "python3"
  },
  "language_info": {
   "codemirror_mode": {
    "name": "ipython",
    "version": 3
   },
   "file_extension": ".py",
   "mimetype": "text/x-python",
   "name": "python",
   "nbconvert_exporter": "python",
   "pygments_lexer": "ipython3",
   "version": "3.12.6"
  }
 },
 "nbformat": 4,
 "nbformat_minor": 5
}
